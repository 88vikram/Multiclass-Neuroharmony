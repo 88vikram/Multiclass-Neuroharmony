{
  "cells": [
    {
      "cell_type": "code",
      "execution_count": null,
      "metadata": {
        "collapsed": false
      },
      "outputs": [],
      "source": [
        "%matplotlib inline"
      ]
    },
    {
      "cell_type": "markdown",
      "metadata": {},
      "source": [
        "\n# Prepare data for Neuroharmony\n\n\nPrepare dataset in the Neuroharmony format.\n"
      ]
    },
    {
      "cell_type": "code",
      "execution_count": null,
      "metadata": {
        "collapsed": false
      },
      "outputs": [],
      "source": [
        "from neuroharmony import fetch_mri_data, combine_freesurfer, combine_mriqc\nimport pandas as pd\n\nmri_path = fetch_mri_data()\nfreesurfer_data = combine_freesurfer(f\"{mri_path}/derivatives/freesurfer/\")\nparticipants_data = pd.read_csv(f\"{mri_path}/participants.tsv\", header=0, sep=\"\\t\", index_col=0)\nMRIQC = combine_mriqc(f\"{mri_path}/derivatives/mriqc/\")\nX = pd.merge(participants_data, MRIQC, left_on=\"participant_id\", right_on=\"participant_id\")\nprint(X[X.columns[:5]].to_markdown())\n\nX.plot.scatter(x=\"prob_y\", y=\"snr_total\")"
      ]
    }
  ],
  "metadata": {
    "kernelspec": {
      "display_name": "Python 3",
      "language": "python",
      "name": "python3"
    },
    "language_info": {
      "codemirror_mode": {
        "name": "ipython",
        "version": 3
      },
      "file_extension": ".py",
      "mimetype": "text/x-python",
      "name": "python",
      "nbconvert_exporter": "python",
      "pygments_lexer": "ipython3",
      "version": "3.7.8"
    }
  },
  "nbformat": 4,
  "nbformat_minor": 0
}