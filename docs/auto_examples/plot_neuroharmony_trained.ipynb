{
  "cells": [
    {
      "cell_type": "code",
      "execution_count": null,
      "metadata": {
        "collapsed": false
      },
      "outputs": [],
      "source": [
        "%matplotlib inline"
      ]
    },
    {
      "cell_type": "markdown",
      "metadata": {},
      "source": [
        "\n# Apply a pre-trained Neuroharmony model\n\nAn example plot of how to load and apply pre-trained a Neuroharmony model.\n"
      ]
    },
    {
      "cell_type": "code",
      "execution_count": null,
      "metadata": {
        "collapsed": false
      },
      "outputs": [],
      "source": [
        "import matplotlib.pyplot as plt\nfrom neuroharmony import fetch_trained_model, fetch_sample\nimport seaborn as sns\n\nX = fetch_sample()\nneuroharmony = fetch_trained_model()\nx_harmonized = neuroharmony.transform(X)\n\nrois = ['Left-Hippocampus',\n        'lh_bankssts_volume',\n        'lh_posteriorcingulate_volume',\n        'lh_superiorfrontal_volume',\n        'rh_frontalpole_volume',\n        'rh_parsopercularis_volume',\n        'rh_parstriangularis_volume',\n        'rh_superiorfrontal_volume',\n        'Right-Cerebellum-White-Matter',\n        ]\nfig, axes = plt.subplots(3, 3, figsize=(10, 10))\nfor roi, ax in zip(rois, axes.flatten()):\n    ax.plot(neuroharmony.kde_data_[roi]['x'], neuroharmony.kde_data_[roi]['y'],\n            color='#fcb85b', ls='--', label='ComBat harmonized training set')\n    sns.kdeplot(X[roi], color='#f47376', ls=':', legend=False, ax=ax, label='Original test set')\n    sns.kdeplot(x_harmonized[roi], color='#00bcab', ls='-', legend=False, ax=ax, label='Harmonized test set')\n    ax.set_xlabel(roi, fontsize=13)\naxes.flatten()[2].legend(ncol=3, bbox_to_anchor=(0.8, 1.175), fontsize=13)\naxes.flatten()[3].set_ylabel('Density', fontsize=15)\nplt.subplots_adjust(left=0.07, right=0.99,\n                    bottom=0.05, top=0.96,\n                    hspace=0.20, wspace=0.20)\nplt.show()"
      ]
    }
  ],
  "metadata": {
    "kernelspec": {
      "display_name": "Python 3",
      "language": "python",
      "name": "python3"
    },
    "language_info": {
      "codemirror_mode": {
        "name": "ipython",
        "version": 3
      },
      "file_extension": ".py",
      "mimetype": "text/x-python",
      "name": "python",
      "nbconvert_exporter": "python",
      "pygments_lexer": "ipython3",
      "version": "3.7.8"
    }
  },
  "nbformat": 4,
  "nbformat_minor": 0
}