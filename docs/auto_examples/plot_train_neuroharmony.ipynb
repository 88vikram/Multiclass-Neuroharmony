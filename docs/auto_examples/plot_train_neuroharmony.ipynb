{
  "cells": [
    {
      "cell_type": "code",
      "execution_count": null,
      "metadata": {
        "collapsed": false
      },
      "outputs": [],
      "source": [
        "%matplotlib inline"
      ]
    },
    {
      "cell_type": "markdown",
      "metadata": {},
      "source": [
        "\n# Train your own Neuroharmony model\n\n\nIn this example, we show how to train an instance of Neuroharmony. The dataset we use here is very limited, and the\nhyperparameters are not well explored, so we do not expect good results. This is an example of how to format the data\nand run the training.\n"
      ]
    },
    {
      "cell_type": "code",
      "execution_count": null,
      "metadata": {
        "collapsed": false
      },
      "outputs": [],
      "source": [
        "from matplotlib.colors import LogNorm\nfrom neuroharmony import exclude_single_subject_groups, fetch_sample, ks_test_grid, Neuroharmony\nfrom neuroharmony.data.rois import rois\nfrom seaborn import heatmap\nimport matplotlib.pyplot as plt\nimport numpy as np\nimport pandas as pd\n# Load the data.\n# You can do as you wish, as long as the input to Neuroharmony is a NDFrame (pandas).\nX = fetch_sample()\nfeatures = rois\ncovariates = [\"Gender\", \"scanner\", \"Age\"]\nexclude_vars = X.columns[X.isna().sum() != 0].to_list() + X.columns[X.dtypes == 'O'].to_list() + ['Dataset', 'Diagn']\nregression_features = [var for var in X.columns if var not in covariates + features + exclude_vars]\neliminate_variance = [\"scanner\"]\n\nX.Age = X.Age.astype(int)\nscanners = X.scanner.unique()\nn_scanners = len(scanners)\n# Split train and test leaving one scanner out.\ntrain_bool = X.scanner.isin(scanners[1:])\ntest_bool = X.scanner.isin(scanners[:1])\nX_train_split = X[train_bool][regression_features + covariates + rois]\nX_test_split = X[test_bool][regression_features + covariates + rois]\nx_train, x_test = X_train_split, X_test_split\nx_train = exclude_single_subject_groups(x_train, covariates)\n\n# Create the neuroharmony model.\n# Here you can establish the range of the hyperparameters random search or give specific values.\nharmony = Neuroharmony(\n    features,\n    regression_features,\n    covariates,\n    eliminate_variance,\n    param_distributions=dict(\n        RandomForestRegressor__n_estimators=[10, 20, 50],\n        RandomForestRegressor__random_state=[42, 78],\n        RandomForestRegressor__warm_start=[False, True],\n    ),\n    estimator_args=dict(n_jobs=1, random_state=42),\n    randomized_search_args=dict(cv=5, n_jobs=8),\n)\n# Fit the model.\nx_train_harmonized = harmony.fit_transform(x_train)\n# Predict correction to unseen data.\nx_test_harmonized = harmony.transform(x_test)\n# Compose a NDFrame with all the data.\ndata_harmonized = pd.concat([x_train_harmonized, x_test_harmonized], sort=False)\n# Use Kolmogorov-Smirnov test to stablish if the differences between scanners were indeed eliminated.\nKS_ORIGINAL = ks_test_grid(X, features, \"scanner\")\nKS_HARMONIZED = ks_test_grid(data_harmonized, features, \"scanner\")\n\nKS_HARMONIZED_ARRAY = np.zeros((n_scanners, n_scanners, 101))\nKS_ORIGINAL_ARRAY = np.zeros((n_scanners, n_scanners, 101))\nfor i_var, var in enumerate(rois):\n    KS_HARMONIZED_ARRAY[:, :, i_var] = KS_HARMONIZED[var]\n    KS_ORIGINAL_ARRAY[:, :, i_var] = KS_HARMONIZED[var]\nMIN_KS_ORIGINAL = pd.DataFrame(np.nanmin(KS_ORIGINAL_ARRAY, axis=2), index=scanners, columns=scanners).fillna(0)\nMIN_KS_HARMONIZED = pd.DataFrame(np.nanmin(KS_HARMONIZED_ARRAY, axis=2), index=scanners, columns=scanners).fillna(0)\nMIN_KS = MIN_KS_ORIGINAL + MIN_KS_HARMONIZED.T\n\nvmin, vmax = 1e-4, 1e0\ncbar_ticks = [10**i for i in np.arange(np.log10(vmin), np.log10(vmax) + 1)]\nfig = plt.figure(figsize=(2 * 5.2283465, 1.2 * 5.2283465))\nax = fig.add_subplot(111)\nax = heatmap(MIN_KS,\n             cmap='BrBG', norm=LogNorm(vmin=vmin, vmax=vmax),\n             cbar_kws=dict(ticks=cbar_ticks, pad=0.005), vmin=vmin, vmax=vmax, ax=ax)\nplt.title('Kolmogorov-Smirnov test (p-value)', fontsize=20)\nplt.tick_params(labelsize=12)\nplt.minorticks_off()\nplt.subplots_adjust(left=0.175, bottom=0.33, top=0.95, right=1.075)\nplt.tick_params(labelsize=11)\nplt.gca().set_xticks(np.arange(0.5, len(MIN_KS)))\nplt.gca().set_xticklabels(MIN_KS.index)\nplt.show()"
      ]
    }
  ],
  "metadata": {
    "kernelspec": {
      "display_name": "Python 3",
      "language": "python",
      "name": "python3"
    },
    "language_info": {
      "codemirror_mode": {
        "name": "ipython",
        "version": 3
      },
      "file_extension": ".py",
      "mimetype": "text/x-python",
      "name": "python",
      "nbconvert_exporter": "python",
      "pygments_lexer": "ipython3",
      "version": "3.7.8"
    }
  },
  "nbformat": 4,
  "nbformat_minor": 0
}